{
 "cells": [
  {
   "cell_type": "markdown",
   "metadata": {},
   "source": [
    "# COGS 108 - Assignment 4: Project Proposal"
   ]
  },
  {
   "cell_type": "markdown",
   "metadata": {},
   "source": [
    "## Important\n",
    "\n",
    "- Make sure all group member (3-5 people) are listed in the group members section.\n",
    "- ONE, and only one, member of your group should upload this notebook to TritonED. \n",
    "- Each member of the group will receive the same grade on this assignment. \n",
    "- Keep the file name the same: submit the file 'A4_ProjectProposal.ipynb'"
   ]
  },
  {
   "cell_type": "markdown",
   "metadata": {},
   "source": [
    "## Overview"
   ]
  },
  {
   "cell_type": "markdown",
   "metadata": {},
   "source": [
    "Read the project description, and detailed instructions for this assignment, in the 'A4_ProjectOutlineAndProposal' pdf."
   ]
  },
  {
   "cell_type": "markdown",
   "metadata": {},
   "source": [
    "## Group Members: Fill in the Student ID's of each group member here\n",
    "- A12880031\n",
    "- A12670517\n",
    "- A92026847\n",
    "- A92004487"
   ]
  },
  {
   "cell_type": "markdown",
   "metadata": {},
   "source": [
    "### Research Question\n",
    "\n",
    "What is your research question? (1-2 sentences)"
   ]
  },
  {
   "cell_type": "markdown",
   "metadata": {},
   "source": [
    "What are common traits of the most financially successful movies - type of genre; plot keywords used; which actors are used - and which of these traits have the greatest impact on the movie's financial success?"
   ]
  },
  {
   "cell_type": "markdown",
   "metadata": {},
   "source": [
    "### Hypothesis\n",
    "\n",
    "What is your prediction (2-3 sentences)"
   ]
  },
  {
   "cell_type": "markdown",
   "metadata": {},
   "source": [
    "After skimming the dataset, we predict that the movies that earn the most money are the ones that contain plot phrases/keywords such as \"based on a comic book\", \"aliens\", and \"series\" since those appear often and the box office earnings of those movies tend to be high. We also predict that a movie's success is directly related to how popular the cast is (popularity operationalized by the number of Facebook likes). However, we don't think that the genre of the movie will have an effect on the movie's success since successful movies come from all different types of genres. Overall, we believe that plot keywords have the greatest impact on financial success."
   ]
  },
  {
   "cell_type": "markdown",
   "metadata": {},
   "source": [
    "### Dataset(s)\n",
    "\n",
    "What data will you use to answer your question? Describe the dataset in terms of number of observations, what kind of features it contains, etc. You must use at least one dataset containing at least approximately 1000 observations (if your data are smaller but you feel they are sufficient, email Prof. Voytek). You are welcome (and in fact recommended) to find multiple datasets! If you do so, describe each one, and briefly explain how you will combine them together. "
   ]
  },
  {
   "cell_type": "markdown",
   "metadata": {},
   "source": [
    "*Fill in your dataset information here*\n",
    "\n",
    "(Copy this information for each dataset)\n",
    "- Dataset Name: movie_metadata.csv\n",
    "- Link to the dataset: https://www.kaggle.com/deepmatrix/imdb-5000-movie-dataset\n",
    "- Number of observations: Over 5000 movies\n",
    "\n",
    "1-2 sentences describing the dataset. \n",
    "\n",
    "This dataset contains various variables such as number of Facebook likes for the actors and movies, main actor names, box office gross, and imdb ratings, all of which are associated with a movie's popularity, talent, and success."
   ]
  },
  {
   "cell_type": "markdown",
   "metadata": {},
   "source": [
    "### Background & Prior Work\n",
    "\n",
    "Why is this question of interest, what background information led you to your hypothesis, and why is this important?\n",
    "\n",
    "Find some relevant prior work, and reference them. Even if you think you have a totally novel question, find the most similar prior work you can, and discuss how it relates to your project. \n",
    "\n",
    "References can be research publications, but they need not be: blogs, github repositories, company websites, etc., are viable references if they are relevant to your project.\n",
    "\n",
    "(2-3 paragraphs, including at least 2 references)"
   ]
  },
  {
   "cell_type": "markdown",
   "metadata": {},
   "source": [
    "*Fill in your background and prior work here* \n",
    "\n",
    "This is a question of interest because one of our group members is really passionate about the film industry. As his group members and friends, we often hear about the hundreds of movies he watches, which makes us interested in them as well. Thus, we decided to focus our final project on movies to see which attributes of a movie make them the most successful. We arrived at our hypothesis by the fact that some of us would see any movie with a certain actor/actress in it no matter what the movie is about. We also felt that movie series such as Star Wars and Harry Potter, and superhero movies such as Man of Steel and X-Men, would be the most successful because they are popularized through multiple forms of media. This question is important because if studios paid attention to these kinds of studies, then they can lower their risk of financial failure.\n",
    "\n",
    "Referencess (include a link):\n",
    "- 1) http://www.people.hbs.edu/aelberse/papers/hbs_06-002.pdf \n",
    "\n",
    "Elberse, Anita. \"The power of stars: Do star actors drive the success of movies?.\" Journal of Marketing 71.4 (2007): 102-120.\n",
    "\n",
    "This article asks and answers the question \"Do star actors drive the success of movies?\" Tom Cruise, Brad Pitt, Angelina Jolie, and Tom Hanks are all huge names in the industry whose movies have earned themselves millions of dollars. However, there are also movies that have made millions that had no stars in it at the time such as Star Wars, ET, and Titanic. In the end, after multiple experiments and data mining, the author found that there was a positive relationship between movie success and star actors. This relates to our project because we will be using attributes of movies such as the actors to see which movies are the most successful; however, we won't be looking at the salary of the individual to justify their popularity; instead we will be looking at their amount of Facebook likes.\n",
    "\n",
    "\n",
    "- 2) https://cloudtweaks.com/2014/02/big-data-changing-film-industry/ \n",
    "\n",
    "This article discusses how big data is changing the film industry by taking into account consumer preferences, viewing habits, and cultural habits. It also provides a research article that explores the nature of social media and its role in marketing, specifically how Facebook likes are a direct indicator of a movie's likelihood of selling out on its opening weekend. This relates to our project because we will be using variables like Facebook likes to determine a film's potential."
   ]
  },
  {
   "cell_type": "markdown",
   "metadata": {},
   "source": [
    "### Proposed Methods\n",
    "\n",
    "What methods will you use to analyze your data?\n",
    "\n",
    "- How 'clean' is the data? To the extent that it requires cleaning, how will you do so?\n",
    "- How will you analyze the data? Be as specific as you can. Briefly mention any pre-processing steps that are required for your methods (for example, checking data distributions and performing any transformations that may be required). Include a brief outline of how you will apply your chosen method(s). \n",
    "- What do you plan to report? Briefly mention any key visualizations you plan to create, and/or the kind of result you will be able to report that addresses your question (this could be, for example, the outcome of some statistical test(s), prediction error on a model, a model fit parameter, etc.).\n",
    "- Include a list of packages you expect to use for you project. If you plan to use packages we have not used in class, add a very brief description about them (a few words is sufficient). "
   ]
  },
  {
   "cell_type": "markdown",
   "metadata": {},
   "source": [
    "*Fill in your proposed methods information here:*\n",
    "\n",
    "*Data Cleaning (2-3 sentences)*\n",
    "\n",
    "To keep things simple, we are going to clean the data by dropping the rows that have nothing or 0 in the gross column. According to the website where we acquired our data from, there are about 800 films that have a gross outcome of 0. Thus, we will just drop those rows because we are focusing on the effect of three different variables on gross, and if a movie does not have a gross number, we have nothing to correlate the three variables against. We will also filter the data so that it reflects the data we are most interested in such as actor names and likes by excluding data such as language and country.\n",
    "\n",
    "*Data Analysis (1-2 paragraphs)*\n",
    "\n",
    "For our data analysis, we will reduce the dimensions of the dataset such that instead of using the 28 variables that the dataset we found contains, we will focus on three of them. To do this, we will drop all the columns that we won't be using. Then, we will calculate the total number of likes on Facebook that the top three actors in each movie have, and store this into a new column along the lines of \"totalLikes\". Then, we will separate the movies into their respective genres (if a movie has more than one genre, it will be in multiple categories), by using a dictionary for each genre, and some mechanism that allows us to iterate through the multiple genres that a movie has and insert it into multiple keys. We will also find the most frequent recurring words in each movies' plot keywords column and show them in a histogram.\n",
    "\n",
    "To visualize the data we collected, we will use a scatter matrix to plot the data from the three variables against the averaged gross salaries depending on the variable, and see if they are positively, negatively or not correlated. \n",
    "\n",
    "We also aim to analyze main effects between the independent variables and the dependent variable to see which trait has the biggest impact. To do this, we will be conducting an ANOVA to find out if our results are significant.\n",
    "\n",
    "*What to report (2-3 sentences)*\n",
    "\n",
    "If a variable is positively correlated with box office gross, then we can assume that it plays a role in determining the movie's financial success. For example, if we notice a continuing trend in which actors with a high number of Facebook likes has starred in films with a high box office gross, then our hypothesis for that variable is supported.\n",
    "\n",
    "From the outcome of our ANOVA test, we will be able to see which of the three variables has the largest effect on gross income. From our scatter matrix, we will be able to see which selection of genre, actors, and plot keywords correlates to the highest gross income for a movie. For example, if we notice a continuing trend in which actors with a high number of Facebook likes has starred in films with a high box office gross, then our hypothesis for that variable is supported.\n",
    "\n",
    "Packages we plan to use:\n",
    "- pandas for data frames\n",
    "- cborne\n",
    "- matplot\n",
    "- numpy"
   ]
  },
  {
   "cell_type": "markdown",
   "metadata": {},
   "source": [
    "### Discussion\n",
    "\n",
    "What are the pitfalls and potential confounds of your data and/or methods? For example, how might biases in your data sources or analyses influence your interpretations? What will you do if you methods don't work and/or your hypotheses are wrong?\n",
    "\n",
    "(2-3 paragraphs)"
   ]
  },
  {
   "cell_type": "markdown",
   "metadata": {},
   "source": [
    "Some potential biases in this dataset would be that it mainly observes popular movies and ignores smaller budget independent films. This scarcity of data might cause our experiment to provide results applicable only to higher budget studio films, and this exclusivity would not represent the film industry as a whole.\n",
    "\n",
    "Another issue we have to take into consideration is the year each film was released. Movies that were released in the early 2000s and before would not have social media data since Facebook was not yet popular or not even invented. This would force us to eliminate Facebook likes as a variable for a large number of movies, and we would only use that trait to apply to more recent movies. The year also influences the box office because of the possibility of inflation, so some movies may show a lower box office gross, but in actuality the amount should be adjusted depending on the year it was released.\n",
    "\n",
    "If our methods don’t work, we can redefine what it means for a movie to be “successful”, because there are many perspectives on “success”. In this case, we are interesting in success in terms of numbers (likes on facebook, etc), but if our methods don’t work, we can look at success in terms of other factors. Or... we will go to office hours to brainstorm a better design more aptly suited to test our question!"
   ]
  }
 ],
 "metadata": {
  "kernelspec": {
   "display_name": "Python 3",
   "language": "python",
   "name": "python3"
  },
  "language_info": {
   "codemirror_mode": {
    "name": "ipython",
    "version": 3
   },
   "file_extension": ".py",
   "mimetype": "text/x-python",
   "name": "python",
   "nbconvert_exporter": "python",
   "pygments_lexer": "ipython3",
   "version": "3.6.0"
  }
 },
 "nbformat": 4,
 "nbformat_minor": 2
}
